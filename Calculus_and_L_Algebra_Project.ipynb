{
  "cells": [
    {
      "cell_type": "markdown",
      "id": "5dbe7b9e",
      "metadata": {
        "id": "5dbe7b9e"
      },
      "source": [
        "# Calculus and Algebra problems"
      ]
    },
    {
      "cell_type": "markdown",
      "id": "519c4b12",
      "metadata": {
        "id": "519c4b12"
      },
      "source": [
        "## Calculus\n",
        "\n",
        "Calculus is not obscure. It is the language for modeling behaviors. Calculus enables us to find the rate of changes in order to optimise a function. Without calculus, we would not be able to fully understand techniques such as:\n",
        "\n",
        "Backpropagation in neural networks\n",
        "\n",
        "Regression using optimal least square\n",
        "\n",
        "Expectation maximization in fitting probability models"
      ]
    },
    {
      "cell_type": "markdown",
      "id": "b7e2e87a",
      "metadata": {
        "id": "b7e2e87a"
      },
      "source": [
        "### Exercise 1\n",
        "\n",
        "Let’s say in my office, it takes me 10 seconds (time) to travel 25 meters (distance) to the coffee machine.\n",
        "If we want to express the above situation as a function, then it would be:\n",
        "\n",
        "distance = speed * time\n",
        "\n",
        "So for this case: speed is the first derivative of the distance function above.\n",
        "\n",
        "As speed describes the rate of change of distance over time,\n",
        "when people say taking the first derivative of a certain function,\n",
        "they mean finding out the rate of change of a function.\n",
        "\n",
        "**Find the speed and build the linear function on distance $(d)$ over time $(t)$, when $(t ∈ [0,10])$.**"
      ]
    },
    {
      "cell_type": "code",
      "execution_count": 1,
      "id": "ccfb086c",
      "metadata": {
        "id": "ccfb086c"
      },
      "outputs": [],
      "source": [
        "#import libraries\n",
        "import matplotlib.pyplot as plt\n",
        "import numpy as np\n",
        "import pandas as pd"
      ]
    },
    {
      "cell_type": "code",
      "execution_count": 2,
      "id": "5ab3cebe",
      "metadata": {
        "colab": {
          "base_uri": "https://localhost:8080/",
          "height": 447
        },
        "id": "5ab3cebe",
        "outputId": "efae9b64-d266-42d8-9977-fc5f3828e8d8"
      },
      "outputs": [
        {
          "output_type": "execute_result",
          "data": {
            "text/plain": [
              "[<matplotlib.lines.Line2D at 0x77fc6346ece0>]"
            ]
          },
          "metadata": {},
          "execution_count": 2
        },
        {
          "output_type": "display_data",
          "data": {
            "text/plain": [
              "<Figure size 640x480 with 1 Axes>"
            ],
            "image/png": "[encoded data removed]"
          },
          "metadata": {}
        }
      ],
      "source": [
        "tiempo = 10 # tenemos tiempo\n",
        "distancia = 25 # tenemos distancia\n",
        "velocidad = distancia / tiempo # calculamos velocidad\n",
        "\n",
        "tiempo = np.linspace(0, 10) # ahora dividimos el tiempo en intervalos\n",
        "\n",
        "def distance(x):\n",
        "\treturn velocidad * tiempo # Creamos una funcion para calcular la distancia (velocidad * tiempo)\n",
        "\n",
        "y_axis = distance(tiempo)\n",
        "\n",
        "plt.plot(tiempo, y_axis)"
      ]
    },
    {
      "cell_type": "code",
      "execution_count": 3,
      "id": "cd58eb6d",
      "metadata": {
        "colab": {
          "base_uri": "https://localhost:8080/"
        },
        "id": "cd58eb6d",
        "outputId": "3b692e8c-280a-4b3a-f478-aa4d97b2ec3f"
      },
      "outputs": [
        {
          "output_type": "execute_result",
          "data": {
            "text/plain": [
              "array([ 0.        ,  0.51020408,  1.02040816,  1.53061224,  2.04081633,\n",
              "        2.55102041,  3.06122449,  3.57142857,  4.08163265,  4.59183673,\n",
              "        5.10204082,  5.6122449 ,  6.12244898,  6.63265306,  7.14285714,\n",
              "        7.65306122,  8.16326531,  8.67346939,  9.18367347,  9.69387755,\n",
              "       10.20408163, 10.71428571, 11.2244898 , 11.73469388, 12.24489796,\n",
              "       12.75510204, 13.26530612, 13.7755102 , 14.28571429, 14.79591837,\n",
              "       15.30612245, 15.81632653, 16.32653061, 16.83673469, 17.34693878,\n",
              "       17.85714286, 18.36734694, 18.87755102, 19.3877551 , 19.89795918,\n",
              "       20.40816327, 20.91836735, 21.42857143, 21.93877551, 22.44897959,\n",
              "       22.95918367, 23.46938776, 23.97959184, 24.48979592, 25.        ])"
            ]
          },
          "metadata": {},
          "execution_count": 3
        }
      ],
      "source": [
        "# Tenemos los siguientes valores: la distancia que recorremos (25) y el tiempo en el que la recorremos (10)\n",
        "tiempo = 10\n",
        "distancia = 25\n",
        "\n",
        "# Encontramos la velocidad:\n",
        "velocidad = distancia / tiempo\n",
        "\n",
        "# Y ahora podemos calcular la distancia\n",
        "distancia = tiempo * distancia\n",
        "\n",
        "# Vamos a construir una función linear para la distancia recorrida (25) durante el tiempo dado (10), para ello creamos un intervalo de tiempo\n",
        "# usando np.linspace de 0 a 10. np.linspace() returns evenly spaced numbers over a specified interval.\n",
        "tiempo = np.linspace(0, 10)\n",
        "\n",
        "# Volvemos a calcular la distancia para el nuevo valor de time\n",
        "distancia = velocidad * tiempo\n",
        "distancia"
      ]
    },
    {
      "cell_type": "code",
      "execution_count": 4,
      "id": "dbc4c780",
      "metadata": {
        "colab": {
          "base_uri": "https://localhost:8080/",
          "height": 472
        },
        "id": "dbc4c780",
        "outputId": "75c5cc76-b0f5-4dd0-f0b9-8bcc4316f18a"
      },
      "outputs": [
        {
          "output_type": "display_data",
          "data": {
            "text/plain": [
              "<Figure size 640x480 with 1 Axes>"
            ],
            "image/png": "[encoded data removed]"
          },
          "metadata": {}
        }
      ],
      "source": [
        "#plot the distance function on domain(t)\n",
        "\n",
        "plt.plot(tiempo, distancia)\n",
        "plt.xlabel('Tiempo (en segundos)')\n",
        "plt.ylabel('Distancia (en metros)')\n",
        "plt.title('Distancia vs Tiempo')\n",
        "plt.grid(True)\n",
        "plt.show()"
      ]
    },
    {
      "cell_type": "code",
      "execution_count": 5,
      "id": "4c4d4f20",
      "metadata": {
        "colab": {
          "base_uri": "https://localhost:8080/",
          "height": 206
        },
        "id": "4c4d4f20",
        "outputId": "5dae0891-6927-41d0-e84d-e9aac25daa38"
      },
      "outputs": [
        {
          "output_type": "execute_result",
          "data": {
            "text/plain": [
              "   Tiempo transcurrido  Distancia recorrida\n",
              "0             0.000000             0.000000\n",
              "1             0.204082             0.510204\n",
              "2             0.408163             1.020408\n",
              "3             0.612245             1.530612\n",
              "4             0.816327             2.040816"
            ],
            "text/html": [
              "\n",
              "\n",
              "  <div id=\"df-83c0aac4-4b5d-42cb-8eb9-b19919bbc037\">\n",
              "    <div class=\"colab-df-container\">\n",
              "      <div>\n",
              "<style scoped>\n",
              "    .dataframe tbody tr th:only-of-type {\n",
              "        vertical-align: middle;\n",
              "    }\n",
              "\n",
              "    .dataframe tbody tr th {\n",
              "        vertical-align: top;\n",
              "    }\n",
              "\n",
              "    .dataframe thead th {\n",
              "        text-align: right;\n",
              "    }\n",
              "</style>\n",
              "<table border=\"1\" class=\"dataframe\">\n",
              "  <thead>\n",
              "    <tr style=\"text-align: right;\">\n",
              "      <th></th>\n",
              "      <th>Tiempo transcurrido</th>\n",
              "      <th>Distancia recorrida</th>\n",
              "    </tr>\n",
              "  </thead>\n",
              "  <tbody>\n",
              "    <tr>\n",
              "      <th>0</th>\n",
              "      <td>0.000000</td>\n",
              "      <td>0.000000</td>\n",
              "    </tr>\n",
              "    <tr>\n",
              "      <th>1</th>\n",
              "      <td>0.204082</td>\n",
              "      <td>0.510204</td>\n",
              "    </tr>\n",
              "    <tr>\n",
              "      <th>2</th>\n",
              "      <td>0.408163</td>\n",
              "      <td>1.020408</td>\n",
              "    </tr>\n",
              "    <tr>\n",
              "      <th>3</th>\n",
              "      <td>0.612245</td>\n",
              "      <td>1.530612</td>\n",
              "    </tr>\n",
              "    <tr>\n",
              "      <th>4</th>\n",
              "      <td>0.816327</td>\n",
              "      <td>2.040816</td>\n",
              "    </tr>\n",
              "  </tbody>\n",
              "</table>\n",
              "</div>\n",
              "      <button class=\"colab-df-convert\" onclick=\"convertToInteractive('df-83c0aac4-4b5d-42cb-8eb9-b19919bbc037')\"\n",
              "              title=\"Convert this dataframe to an interactive table.\"\n",
              "              style=\"display:none;\">\n",
              "\n",
              "  <svg xmlns=\"http://www.w3.org/2000/svg\" height=\"24px\"viewBox=\"0 0 24 24\"\n",
              "       width=\"24px\">\n",
              "    <path d=\"M0 0h24v24H0V0z\" fill=\"none\"/>\n",
              "    <path d=\"M18.56 5.44l.94 2.06.94-2.06 2.06-.94-2.06-.94-.94-2.06-.94 2.06-2.06.94zm-11 1L8.5 8.5l.94-2.06 2.06-.94-2.06-.94L8.5 2.5l-.94 2.06-2.06.94zm10 10l.94 2.06.94-2.06 2.06-.94-2.06-.94-.94-2.06-.94 2.06-2.06.94z\"/><path d=\"M17.41 7.96l-1.37-1.37c-.4-.4-.92-.59-1.43-.59-.52 0-1.04.2-1.43.59L10.3 9.45l-7.72 7.72c-.78.78-.78 2.05 0 2.83L4 21.41c.39.39.9.59 1.41.59.51 0 1.02-.2 1.41-.59l7.78-7.78 2.81-2.81c.8-.78.8-2.07 0-2.86zM5.41 20L4 18.59l7.72-7.72 1.47 1.35L5.41 20z\"/>\n",
              "  </svg>\n",
              "      </button>\n",
              "\n",
              "\n",
              "\n",
              "    <div id=\"df-351dbcc0-17bb-4a09-9b83-8529882e54b9\">\n",
              "      <button class=\"colab-df-quickchart\" onclick=\"quickchart('df-351dbcc0-17bb-4a09-9b83-8529882e54b9')\"\n",
              "              title=\"Suggest charts.\"\n",
              "              style=\"display:none;\">\n",
              "\n",
              "<svg xmlns=\"http://www.w3.org/2000/svg\" height=\"24px\"viewBox=\"0 0 24 24\"\n",
              "     width=\"24px\">\n",
              "    <g>\n",
              "        <path d=\"M19 3H5c-1.1 0-2 .9-2 2v14c0 1.1.9 2 2 2h14c1.1 0 2-.9 2-2V5c0-1.1-.9-2-2-2zM9 17H7v-7h2v7zm4 0h-2V7h2v10zm4 0h-2v-4h2v4z\"/>\n",
              "    </g>\n",
              "</svg>\n",
              "      </button>\n",
              "    </div>\n",
              "\n",
              "<style>\n",
              "  .colab-df-quickchart {\n",
              "    background-color: #E8F0FE;\n",
              "    border: none;\n",
              "    border-radius: 50%;\n",
              "    cursor: pointer;\n",
              "    display: none;\n",
              "    fill: #1967D2;\n",
              "    height: 32px;\n",
              "    padding: 0 0 0 0;\n",
              "    width: 32px;\n",
              "  }\n",
              "\n",
              "  .colab-df-quickchart:hover {\n",
              "    background-color: #E2EBFA;\n",
              "    box-shadow: 0px 1px 2px rgba(60, 64, 67, 0.3), 0px 1px 3px 1px rgba(60, 64, 67, 0.15);\n",
              "    fill: #174EA6;\n",
              "  }\n",
              "\n",
              "  [theme=dark] .colab-df-quickchart {\n",
              "    background-color: #3B4455;\n",
              "    fill: #D2E3FC;\n",
              "  }\n",
              "\n",
              "  [theme=dark] .colab-df-quickchart:hover {\n",
              "    background-color: #434B5C;\n",
              "    box-shadow: 0px 1px 3px 1px rgba(0, 0, 0, 0.15);\n",
              "    filter: drop-shadow(0px 1px 2px rgba(0, 0, 0, 0.3));\n",
              "    fill: #FFFFFF;\n",
              "  }\n",
              "</style>\n",
              "\n",
              "    <script>\n",
              "      async function quickchart(key) {\n",
              "        const containerElement = document.querySelector('#' + key);\n",
              "        const charts = await google.colab.kernel.invokeFunction(\n",
              "            'suggestCharts', [key], {});\n",
              "      }\n",
              "    </script>\n",
              "\n",
              "      <script>\n",
              "\n",
              "function displayQuickchartButton(domScope) {\n",
              "  let quickchartButtonEl =\n",
              "    domScope.querySelector('#df-351dbcc0-17bb-4a09-9b83-8529882e54b9 button.colab-df-quickchart');\n",
              "  quickchartButtonEl.style.display =\n",
              "    google.colab.kernel.accessAllowed ? 'block' : 'none';\n",
              "}\n",
              "\n",
              "        displayQuickchartButton(document);\n",
              "      </script>\n",
              "      <style>\n",
              "    .colab-df-container {\n",
              "      display:flex;\n",
              "      flex-wrap:wrap;\n",
              "      gap: 12px;\n",
              "    }\n",
              "\n",
              "    .colab-df-convert {\n",
              "      background-color: #E8F0FE;\n",
              "      border: none;\n",
              "      border-radius: 50%;\n",
              "      cursor: pointer;\n",
              "      display: none;\n",
              "      fill: #1967D2;\n",
              "      height: 32px;\n",
              "      padding: 0 0 0 0;\n",
              "      width: 32px;\n",
              "    }\n",
              "\n",
              "    .colab-df-convert:hover {\n",
              "      background-color: #E2EBFA;\n",
              "      box-shadow: 0px 1px 2px rgba(60, 64, 67, 0.3), 0px 1px 3px 1px rgba(60, 64, 67, 0.15);\n",
              "      fill: #174EA6;\n",
              "    }\n",
              "\n",
              "    [theme=dark] .colab-df-convert {\n",
              "      background-color: #3B4455;\n",
              "      fill: #D2E3FC;\n",
              "    }\n",
              "\n",
              "    [theme=dark] .colab-df-convert:hover {\n",
              "      background-color: #434B5C;\n",
              "      box-shadow: 0px 1px 3px 1px rgba(0, 0, 0, 0.15);\n",
              "      filter: drop-shadow(0px 1px 2px rgba(0, 0, 0, 0.3));\n",
              "      fill: #FFFFFF;\n",
              "    }\n",
              "  </style>\n",
              "\n",
              "      <script>\n",
              "        const buttonEl =\n",
              "          document.querySelector('#df-83c0aac4-4b5d-42cb-8eb9-b19919bbc037 button.colab-df-convert');\n",
              "        buttonEl.style.display =\n",
              "          google.colab.kernel.accessAllowed ? 'block' : 'none';\n",
              "\n",
              "        async function convertToInteractive(key) {\n",
              "          const element = document.querySelector('#df-83c0aac4-4b5d-42cb-8eb9-b19919bbc037');\n",
              "          const dataTable =\n",
              "            await google.colab.kernel.invokeFunction('convertToInteractive',\n",
              "                                                     [key], {});\n",
              "          if (!dataTable) return;\n",
              "\n",
              "          const docLinkHtml = 'Like what you see? Visit the ' +\n",
              "            '<a target=\"_blank\" href=https://colab.research.google.com/notebooks/data_table.ipynb>data table notebook</a>'\n",
              "            + ' to learn more about interactive tables.';\n",
              "          element.innerHTML = '';\n",
              "          dataTable['output_type'] = 'display_data';\n",
              "          await google.colab.output.renderOutput(dataTable, element);\n",
              "          const docLink = document.createElement('div');\n",
              "          docLink.innerHTML = docLinkHtml;\n",
              "          element.appendChild(docLink);\n",
              "        }\n",
              "      </script>\n",
              "    </div>\n",
              "  </div>\n"
            ]
          },
          "metadata": {},
          "execution_count": 5
        }
      ],
      "source": [
        "# create a dataframe\n",
        "tiempo = tiempo\n",
        "distancia = distancia\n",
        "\n",
        "dataframe = pd.DataFrame({'Tiempo transcurrido' : tiempo, 'Distancia recorrida' : distancia})\n",
        "dataframe.head()"
      ]
    },
    {
      "cell_type": "markdown",
      "id": "1144168d",
      "metadata": {
        "id": "1144168d"
      },
      "source": [
        "### Exercise 2\n",
        "\n",
        "It turned out that I wasn't walking a constant speed towards getting my coffee but I was accelerating (my speed increased over time). If initial speed = 0, it still took me 10 seconds to travel from my seat to my coffee but I was walking faster and faster.\n",
        "\n",
        "$V_o$ = initial speed = $0$\n",
        "\n",
        "t = time\n",
        "\n",
        "a = acceleration\n",
        "\n",
        "**distance** = $V_o * t + 0.5 * a * (t^2)$\n",
        "\n",
        "**speed** = $V_o + a * t$\n",
        "\n",
        "The first derivative of the speed function is acceleration. I realise that the speed function is closely related to the distance function.\n",
        "\n",
        "**Find the acceleration value and build the quadratic function  $(t ∈ [0,10])$. Also create a graph and a table.**"
      ]
    },
    {
      "cell_type": "code",
      "execution_count": null,
      "id": "ec1f8bd7",
      "metadata": {
        "colab": {
          "base_uri": "https://localhost:8080/"
        },
        "id": "ec1f8bd7",
        "outputId": "a03811db-1fdc-4315-c211-04668ada9bc2"
      },
      "outputs": [
        {
          "output_type": "error",
          "ename": "SyntaxError",
          "evalue": "ignored",
          "traceback": [
            "\u001b[0;36m  File \u001b[0;32m\"<ipython-input-6-aa22a4e2a6db>\"\u001b[0;36m, line \u001b[0;32m16\u001b[0m\n\u001b[0;31m    dv =\u001b[0m\n\u001b[0m         ^\u001b[0m\n\u001b[0;31mSyntaxError\u001b[0m\u001b[0;31m:\u001b[0m invalid syntax\n"
          ]
        }
      ],
      "source": [
        "#define and plot the quadratic funtion\n",
        "\n",
        "# Conocemos los siguientes datos:\n",
        "# La velocidad inicial es 0 y he tardado 10 segundos en andar la distancia de 25 metros.\n",
        "# Andaba cada vez más rápido.\n",
        "\n",
        "velocidad_inicial = 0\n",
        "distancia = 25\n",
        "tiempo_final = np.linspace(0, 10)\n",
        "\n",
        "# Queremos encontrar este dato\n",
        "aceleracion = aceleracion\n",
        "\n",
        "# Encontramos la aceleracion\n",
        "dv = velocidad_final - velocidad_inicial\n",
        "dv =\n",
        "dt = tiempo_final - tiempo_inicial\n",
        "\n",
        "aceleracion = dv + dt\n",
        "\n",
        "# distancia = velocidad_inicial * tiempo_final + 0.5 * aceleracion * (tiempo_final**2)\n",
        "distancia = 0 * np.linspace(0,10) + 0.5 + aceleracion * (np.linspace(0,10)**2)\n",
        "\n",
        "# velocidad = velocidad_inicial + aceleracion * tiempo_final\n",
        "velocidad = 0 + aceleracion * np.linspace(0,10)"
      ]
    },
    {
      "cell_type": "code",
      "execution_count": null,
      "id": "ba5c497b",
      "metadata": {
        "id": "ba5c497b"
      },
      "outputs": [],
      "source": [
        "#create a dataframe"
      ]
    },
    {
      "cell_type": "markdown",
      "id": "66d4cc18",
      "metadata": {
        "id": "66d4cc18"
      },
      "source": [
        "Before exercise 3, we'll make a brief introduction to Gradient Descent algorithm, which will have a larger explanation in future modules of the bootcamp.\n",
        "\n",
        "El algoritmo Gradient Descent es el héroe detrás de la familia de algoritmos de aprendizaje profundo.\n",
        "\n",
        "Cuando se ejecuta un algoritmo de esta familia, el algoritmo intenta minimizar el error entre la entrada de entrenamiento y la salida prevista.\n",
        "\n",
        "Esta minimización se realiza mediante algoritmos de optimización y el descenso de gradiente es el más popular.\n",
        "\n",
        "Digamos que tiene estos pares de entrada y salida:\n",
        "\n",
        "```py\n",
        "input:\n",
        "[\n",
        " [1,2],\n",
        " [3,4]\n",
        "]\n",
        "\n",
        "output:\n",
        "\n",
        "[\n",
        " [50],\n",
        " [110]\n",
        "]\n",
        "```\n",
        "Podemos estimar que si multiplicamos los valores de entrada por [10, 20], podemos tener la salida como se muestra arriba.\n",
        "```py\n",
        "1(10) + 2(20) = 50\n",
        "\n",
        "3(10) + 4(20) = 110\n",
        "```\n",
        "Cuando un algoritmo de aprendizaje automático comienza a ejecutarse, asigna valores aleatorios y hace una predicción.\n",
        "Digamos que asignó valores [1,2]:.\n",
        "```py\n",
        "1(1) + 2(2) = 5\n",
        "\n",
        "3(1) + 4(2) = 11\n",
        "```\n",
        "Una vez que tiene las predicciones, el algoritmo calcula el **error**, que es la **diferencia entre los datos reales y los datos pronosticados**.\n",
        "\n",
        "Hay muchas formas de calcular el error y se llaman funciones de pérdida (loss functions).\n",
        "\n",
        "Una vez que tenemos este valor, el algoritmo de optimización comienza a mostrarse y establece nuevos valores que reemplazan los valores aleatorios iniciales.\n",
        "\n",
        "Y, el bucle continúa hasta que se cumple una condición. Esa condición puede ser repetir n veces o repetir hasta que el error sea menor que un valor."
      ]
    },
    {
      "cell_type": "markdown",
      "id": "85ef2f0b",
      "metadata": {
        "id": "85ef2f0b"
      },
      "source": [
        "Puede ser difícil entender el **descenso de gradiente** sin entender el **gradiente**.\n",
        "\n",
        "Entonces, concentrémonos en qué es el gradiente.\n",
        "\n",
        "**El gradiente muestra la dirección del mayor cambio de una función escalar.**\n",
        "\n",
        "El cálculo del gradiente se realiza con derivadas, así que comencemos con un ejemplo simple.\n",
        "\n",
        "Para calcular el gradiente, solo necesitamos recordar algunos cálculos de álgebra lineal de la escuela secundaria porque necesitamos calcular derivadas.\n",
        "\n",
        "Digamos que queremos encontrar el punto mínimo de $f(x) = x^2$. La derivada de la función es $df(x)=2^x$.\n",
        "\n",
        "El gradiente de $f(x)$  en el punto $x=-10$\n",
        "\n",
        "es\n",
        "\n",
        "$df(-10)=-20$.\n",
        "\n",
        "El gradiente de $f(x)$ en el punto $x=1$\n",
        "\n",
        "es\n",
        "\n",
        "$df(1)=2$.\n",
        "\n",
        "Ahora visualicemos $f(x)$ y esos puntos $x=-10$ y $x=1$"
      ]
    },
    {
      "cell_type": "code",
      "execution_count": null,
      "id": "4ff7e11a",
      "metadata": {
        "id": "4ff7e11a"
      },
      "outputs": [],
      "source": [
        "import numpy as np\n",
        "import seaborn as sns\n",
        "\n",
        "def f(x):\n",
        "    return x**2\n",
        "\n",
        "def df(x):\n",
        "    return 2*x\n",
        "\n",
        "def visualize(f, x=None):\n",
        "\n",
        "    xArray = np.linspace(-10, 10, 100)\n",
        "    yArray = f(xArray)\n",
        "    sns.lineplot(x=xArray, y=yArray)\n",
        "\n",
        "    if x is not None:\n",
        "        assert type(x) in [np.ndarray, list] # x should be numpy array or list\n",
        "        if type(x) is list: # if it is a list, convert to numpy array\n",
        "            x = np.array(x)\n",
        "\n",
        "\n",
        "        y = f(x)\n",
        "        sns.scatterplot(x=x, y=y, color='red')"
      ]
    },
    {
      "cell_type": "code",
      "execution_count": null,
      "id": "633a54fd",
      "metadata": {
        "id": "633a54fd"
      },
      "outputs": [],
      "source": [
        "visualize(f, x=[-10, 1])"
      ]
    },
    {
      "cell_type": "markdown",
      "id": "9c187ad7",
      "metadata": {
        "id": "9c187ad7"
      },
      "source": [
        "El punto rojo en x=-10 no conoce la superficie sobre la que se encuentra y solo conoce las coordenadas de dónde se encuentra y su gradiente, que es -20.\n",
        "\n",
        "Y el otro punto rojo en x = 1 no conoce la superficie en la que se encuentra y solo conoce las coordenadas de dónde se encuentra y el gradiente de sí mismo, que es 2.\n",
        "\n",
        "Teniendo solo esta información: podemos decir que el punto rojo en x=-10 debería dar un salto mayor que x=1 porque tiene un valor de gradiente absoluto mayor. El letrero muestra la dirección. - muestra que el punto rojo en x=-10 debe moverse hacia la derecha y el otro debe moverse hacia la izquierda.\n",
        "\n",
        "En resumen; el punto rojo en x=-10 (gradiente: -20) debería dar un salto más grande hacia la derecha y el punto rojo en x=1 (gradiente: 2) debería dar un salto más pequeño hacia la izquierda.\n",
        "\n",
        "Sabemos que la longitud del salto debe ser proporcional al gradiente, pero ¿cuál es exactamente ese valor? No lo sabemos. Entonces, digamos que los puntos rojos deberían moverse con la longitud del gradiente alfa* donde alfa es solo un parámetro.\n",
        "\n",
        "Podemos decir que la nueva ubicación del punto rojo debe calcularse con la siguiente fórmula:\n",
        "\n",
        "x = x - gradient * alpha"
      ]
    },
    {
      "cell_type": "markdown",
      "id": "0a7f5c3f",
      "metadata": {
        "id": "0a7f5c3f"
      },
      "source": [
        "Now let's implement this with **Numpy**. Let’s start with visualizing $f(x)=x^2$ function and $x=-10$ point."
      ]
    },
    {
      "cell_type": "code",
      "execution_count": null,
      "id": "e26dbdf0",
      "metadata": {
        "id": "e26dbdf0"
      },
      "outputs": [],
      "source": [
        "visualize(f, x=[-10])"
      ]
    },
    {
      "cell_type": "markdown",
      "id": "6e752e19",
      "metadata": {
        "id": "6e752e19"
      },
      "source": [
        "The following code implements the whole logic explained before:"
      ]
    },
    {
      "cell_type": "code",
      "execution_count": null,
      "id": "2bdd54f1",
      "metadata": {
        "id": "2bdd54f1"
      },
      "outputs": [],
      "source": [
        "def gradient_descent(x, nsteps=1):\n",
        "\n",
        "\n",
        "    #collectXs is an array to store how x changed in each iteration,\n",
        "    #so we can visualize it later\n",
        "\n",
        "    collectXs = [x]\n",
        "\n",
        "    #learning_rate is the value that we mentioned as alpha in previous section\n",
        "\n",
        "    learning_rate = 1e-01\n",
        "\n",
        "    for _ in range(nsteps):\n",
        "\n",
        "        #the following one line does the real magic\n",
        "        #the next value of x is calculated by subtracting the gradient*learning_rate by itself\n",
        "        #the intuation behind this line is in the previous section\n",
        "\n",
        "        x -= df(x) * learning_rate\n",
        "        collectXs.append(x)\n",
        "\n",
        "    #we return a tuple that contains\n",
        "    #x -> recent x after nsteps\n",
        "    #collectXs -> all the x values that was calculated so far\n",
        "\n",
        "    return x, collectXs"
      ]
    },
    {
      "cell_type": "markdown",
      "id": "aea74a65",
      "metadata": {
        "id": "aea74a65"
      },
      "source": [
        "Before running gradient descent with 1000 steps, let’s just run it twice, one step at a time to see how x evolves.\n",
        "We start with x=-10 and it evolves to x=-8. We know that when x=0 that is the **minimum point**, so, yes it is evolving in the correct direction."
      ]
    },
    {
      "cell_type": "code",
      "execution_count": null,
      "id": "0350981e",
      "metadata": {
        "id": "0350981e"
      },
      "outputs": [],
      "source": [
        "x=-10\n",
        "x, collectedXs = gradient_descent(x, nsteps=1)\n",
        "print(x)"
      ]
    },
    {
      "cell_type": "code",
      "execution_count": null,
      "id": "f8e01e2d",
      "metadata": {
        "id": "f8e01e2d"
      },
      "outputs": [],
      "source": [
        "#The next step will start at x=-8. Let's run gradient for 1 step\n",
        "\n",
        "x, collectedXs = gradient_descent(x, nsteps=1)\n",
        "print(x)"
      ]
    },
    {
      "cell_type": "markdown",
      "id": "93f13b32",
      "metadata": {
        "id": "93f13b32"
      },
      "source": [
        "It goes to x=-6.4. Excelent. Now let's run it 1000 times"
      ]
    },
    {
      "cell_type": "code",
      "execution_count": null,
      "id": "b699d1fb",
      "metadata": {
        "id": "b699d1fb"
      },
      "outputs": [],
      "source": [
        "x, collectedXs = gradient_descent(x, nsteps=1000)\n",
        "print(x)"
      ]
    },
    {
      "cell_type": "code",
      "execution_count": null,
      "id": "0b76ee22",
      "metadata": {
        "id": "0b76ee22"
      },
      "outputs": [],
      "source": [
        "visualize(f, x=collectedXs)"
      ]
    },
    {
      "cell_type": "markdown",
      "id": "d00d2fbb",
      "metadata": {
        "id": "d00d2fbb"
      },
      "source": [
        "### Exercise 3\n",
        "\n",
        "When I arrive to the coffee machine, I hear my colleague talking about the per-unit costs of producing 'product B' for the company. As the company produces more units, the per-unit costs continue to decrease until a point where it starts to increase.\n",
        "\n",
        "To optimise the per-unit production cost at its minimal to optimise efficiency, the company would need to find the number of units to be produced where the per-unit production costs begin to change from decreasing to increasing.\n",
        "\n",
        "**Build a quadratic function $f(x)=0.1(x)^2−9x +4500$ on $x∈[0,100]$  to create the per-unit cost function, and make a conclusion.**"
      ]
    },
    {
      "cell_type": "code",
      "execution_count": null,
      "id": "7c67d8b7",
      "metadata": {
        "id": "7c67d8b7"
      },
      "outputs": [],
      "source": [
        "#define and plot the funtion"
      ]
    },
    {
      "cell_type": "markdown",
      "id": "fbe54895",
      "metadata": {
        "id": "fbe54895"
      },
      "source": [
        "We saw with Gradient Descent how the red dot navigates in an environment it does not know about. It only knows the coordinates of where it is and its gradient. The red dot could find the minimum point by using only this knowledge and gradient descent algorithm.\n",
        "\n",
        "**Optional:**\n",
        "\n",
        "Implement all the previous steps to create a gradient descent algorithm to see how the per-unit cost evolves, with a starting point of 0 units of production."
      ]
    },
    {
      "cell_type": "markdown",
      "id": "aabad82c",
      "metadata": {
        "id": "aabad82c"
      },
      "source": [
        "## Linear Algebra"
      ]
    },
    {
      "cell_type": "markdown",
      "id": "6753636d",
      "metadata": {
        "id": "6753636d"
      },
      "source": [
        "### Exercise 1 : Sum of two matrices\n",
        "\n",
        "Suppose we have two matrices A and B.\n",
        "```py\n",
        "A = [[1,2],[3,4]]\n",
        "B = [[4,5],[6,7]]\n",
        "\n",
        "then we get\n",
        "A+B = [[5,7],[9,11]]\n",
        "A-B = [[-3,-3],[-3,-3]]\n",
        "```\n",
        "\n",
        "Make the sum of two matrices using Python with Numpy"
      ]
    },
    {
      "cell_type": "code",
      "execution_count": 6,
      "id": "9e200c32",
      "metadata": {
        "id": "9e200c32",
        "colab": {
          "base_uri": "https://localhost:8080/"
        },
        "outputId": "c5b77216-927d-4129-8942-7c6a7240cbdd"
      },
      "outputs": [
        {
          "output_type": "stream",
          "name": "stdout",
          "text": [
            "[[0.27396707 0.9098286 ]\n",
            " [0.3913326  0.76074568]]\n",
            "[[0.77081293 0.35984149]\n",
            " [0.15327094 0.33395194]]\n"
          ]
        },
        {
          "output_type": "execute_result",
          "data": {
            "text/plain": [
              "array([[1.04478   , 1.2696701 ],\n",
              "       [0.54460354, 1.09469762]])"
            ]
          },
          "metadata": {},
          "execution_count": 6
        }
      ],
      "source": [
        "# importing numpy as np\n",
        "import numpy as np\n",
        "\n",
        "# creating first matrix\n",
        "first_matrix = np.random.rand(2, 2)\n",
        "\n",
        "# creating second matrix\n",
        "second_matrix = np.random.rand(2, 2)\n",
        "\n",
        "\n",
        "#print elements\n",
        "print(first_matrix)\n",
        "print(second_matrix)\n",
        "\n",
        "\n",
        "# adding two matrix\n",
        "np.add(first_matrix, second_matrix)"
      ]
    },
    {
      "cell_type": "markdown",
      "id": "93bfb6cc",
      "metadata": {
        "id": "93bfb6cc"
      },
      "source": [
        "### Exercise 2: Sum of two lists\n",
        "\n",
        "There will be many situations in which we'll have to find index wise summation of two different lists. This can have possible applications in day-to-day programming. In this exercise we will solve the same problem with various ways in which this task can be performed.\n",
        "\n",
        "We have the following two lists:\n",
        "```py\n",
        "list1 = [2, 5, 4, 7, 3]\n",
        "list2 = [1, 4, 6, 9, 10]\n",
        "```\n",
        "\n",
        "Now let's use Python code to demonstrate addition of two lists.\n"
      ]
    },
    {
      "cell_type": "code",
      "execution_count": 7,
      "id": "867b70fc",
      "metadata": {
        "id": "867b70fc",
        "colab": {
          "base_uri": "https://localhost:8080/"
        },
        "outputId": "a10674dc-d3a0-4067-8e9c-75394124eb92"
      },
      "outputs": [
        {
          "output_type": "stream",
          "name": "stdout",
          "text": [
            "Original list 1 : [2, 5, 4, 7, 3]\n",
            "Original list 2 : [1, 4, 6, 9, 10]\n",
            "Resultant list is : [3, 9, 10, 16, 13]\n"
          ]
        }
      ],
      "source": [
        "# Naive method\n",
        "\n",
        "# initializing lists\n",
        "list1 = [2, 5, 4, 7, 3]\n",
        "list2 = [1, 4, 6, 9, 10]\n",
        "\n",
        "# printing original lists\n",
        "print (\"Original list 1 : \" + str(list1))\n",
        "print (\"Original list 2 : \" + str(list2))\n",
        "\n",
        "# using naive method to\n",
        "# add two list\n",
        "res_list = []\n",
        "for i in range(0, len(list1)):\n",
        " res_list.append(list1[i] + list2[i])\n",
        "\n",
        "# printing resultant list\n",
        "print (\"Resultant list is : \" + str(res_list))"
      ]
    },
    {
      "cell_type": "markdown",
      "id": "7a063d7f",
      "metadata": {
        "id": "7a063d7f"
      },
      "source": [
        "Now use the following three different methods to make the same calculation: sum of two lists"
      ]
    },
    {
      "cell_type": "code",
      "execution_count": 8,
      "id": "681930a3",
      "metadata": {
        "id": "681930a3",
        "colab": {
          "base_uri": "https://localhost:8080/"
        },
        "outputId": "5d7c4537-abfe-4979-cd6b-a29a1570f730"
      },
      "outputs": [
        {
          "output_type": "stream",
          "name": "stdout",
          "text": [
            "[2, 5, 4, 7, 3]\n",
            "[1, 4, 6, 9, 10]\n",
            "La suma de las dos listas da como resultado:  [3, 9, 10, 16, 13]\n"
          ]
        }
      ],
      "source": [
        "# Use list comprehensions to perform addition of the two lists:\n",
        "\n",
        "# initializing lists\n",
        "list1 = [2, 5, 4, 7, 3]\n",
        "list2 = [1, 4, 6, 9, 10]\n",
        "\n",
        "# printing original lists\n",
        "print(list1)\n",
        "print(list2)\n",
        "\n",
        "# using list comprehension to add two list\n",
        "# Usando list comprehension, iteramos sobre los elementos correspondientes de las dos listas\n",
        "# usando la función zip(). La función zip() combina los elementos de ambas listas en pares.\n",
        "result = [x + y for x, y in zip(list1, list2)]\n",
        "\n",
        "# printing resultant list\n",
        "print(\"La suma de las dos listas da como resultado: \", result)\n"
      ]
    },
    {
      "cell_type": "code",
      "execution_count": 9,
      "id": "a3a8a425",
      "metadata": {
        "id": "a3a8a425",
        "colab": {
          "base_uri": "https://localhost:8080/"
        },
        "outputId": "3eae1f2d-bafe-467a-fc8f-9b7fc05177b8"
      },
      "outputs": [
        {
          "output_type": "stream",
          "name": "stdout",
          "text": [
            "[2, 5, 4, 7, 3]\n",
            "[1, 4, 6, 9, 10]\n",
            "La suma de las dos listas da como resultado:  [3, 9, 10, 16, 13]\n"
          ]
        }
      ],
      "source": [
        "# Use map() + add():\n",
        "from operator import add\n",
        "# initializing lists\n",
        "\n",
        "list1 = [2, 5, 4, 7, 3]\n",
        "list2 = [1, 4, 6, 9, 10]\n",
        "\n",
        "# printing original lists\n",
        "print(list1)\n",
        "print(list2)\n",
        "\n",
        "\n",
        "# using map() + add() to add two list\n",
        "result = list(map(add, list1, list2))\n",
        "\n",
        "\n",
        "# printing resultant list\n",
        "print(\"La suma de las dos listas da como resultado: \", result)"
      ]
    },
    {
      "cell_type": "code",
      "execution_count": 10,
      "id": "1708d7ee",
      "metadata": {
        "id": "1708d7ee",
        "colab": {
          "base_uri": "https://localhost:8080/"
        },
        "outputId": "2fe33515-6f5b-4535-d67c-e11c42a5ffa3"
      },
      "outputs": [
        {
          "output_type": "stream",
          "name": "stdout",
          "text": [
            "[2, 5, 4, 7, 3]\n",
            "[1, 4, 6, 9, 10]\n",
            "La suma de las dos listas da como resultado:  [3, 9, 10, 16, 13]\n"
          ]
        }
      ],
      "source": [
        "# Use zip() + sum():\n",
        "\n",
        "# initializing lists\n",
        "list1 = [2, 5, 4, 7, 3]\n",
        "list2 = [1, 4, 6, 9, 10]\n",
        "\n",
        "# printing original lists\n",
        "print(list1)\n",
        "print(list2)\n",
        "\n",
        "\n",
        "# Using zip() + sum() to add two list\n",
        "result = [sum(values) for values in zip(list1, list2)]\n",
        "\n",
        "\n",
        "# printing resultant list\n",
        "print(\"La suma de las dos listas da como resultado: \", result)"
      ]
    },
    {
      "cell_type": "markdown",
      "id": "1aef1bd2",
      "metadata": {
        "id": "1aef1bd2"
      },
      "source": [
        "### Exercise 3 : Dot multiplication\n",
        "\n",
        "We have two matrices:\n",
        "```py\n",
        "matrix1 = [[1,7,3],\n",
        " [ 4,5,2],\n",
        " [ 3,6,1]]\n",
        "matrix2 = [[5,4,1],\n",
        " [ 1,2,3],\n",
        " [ 4,5,2]]\n",
        "```\n",
        "\n",
        "A simple technique but expensive method for larger input datasets is using for loops. In this exercise we will first use nested for loops to iterate through each row and column of the matrices, and then we will perform the same multiplication using Numpy."
      ]
    },
    {
      "cell_type": "code",
      "execution_count": 15,
      "id": "840e7d0e",
      "metadata": {
        "id": "840e7d0e",
        "colab": {
          "base_uri": "https://localhost:8080/"
        },
        "outputId": "db6330d2-bf40-48ad-b5ed-67a9037884e5"
      },
      "outputs": [
        {
          "output_type": "stream",
          "name": "stdout",
          "text": [
            "[[24, 33, 28], [33, 36, 23], [25, 29, 23]]\n"
          ]
        }
      ],
      "source": [
        "#Using a for loop input two matrices of size n x m\n",
        "matrix1 = [[1,7,3],\n",
        " [ 4,5,2],\n",
        " [ 3,6,1]]\n",
        "matrix2 = [[5,4,1],\n",
        " [ 1,2,3],\n",
        " [ 4,5,2]]\n",
        "\n",
        "res = [[0 for x in range(3)] for y in range(3)]\n",
        "\n",
        "# explicit for loops\n",
        "for i in range(len(matrix1)):\n",
        "  for j in range(len(matrix2[0])):\n",
        "    for k in range(len(matrix2)):\n",
        "      # resulted matrix\n",
        "      res[i][j] += matrix1[i][k] * matrix2[k][j]\n",
        "\n",
        "print (res)"
      ]
    },
    {
      "cell_type": "markdown",
      "id": "785f6c30",
      "metadata": {
        "id": "785f6c30"
      },
      "source": [
        "\n",
        "https://www.youtube.com/channel/UCXq-PLvYAX-EufF5RAPihVg\n",
        "\n",
        "https://www.geeksforgeeks.org/\n",
        "\n",
        "https://medium.com/@seehleung/basic-calculus-explained-for-machine-learning-c7f642e7ced3\n",
        "\n",
        "https://blog.demir.io/understanding-gradient-descent-266fc3dcf02f"
      ]
    }
  ],
  "metadata": {
    "interpreter": {
      "hash": "d3463682613d55fcbb64853e38cc3520a7f67bdf8d6940e781ddcdc423122719"
    },
    "kernelspec": {
      "display_name": "Python 3.9.12 ('calculus-project')",
      "language": "python",
      "name": "python3"
    },
    "language_info": {
      "codemirror_mode": {
        "name": "ipython",
        "version": 3
      },
      "file_extension": ".py",
      "mimetype": "text/x-python",
      "name": "python",
      "nbconvert_exporter": "python",
      "pygments_lexer": "ipython3",
      "version": "3.11.3"
    },
    "colab": {
      "provenance": [],
      "collapsed_sections": [
        "b7e2e87a",
        "1144168d",
        "d00d2fbb"
      ]
    }
  },
  "nbformat": 4,
  "nbformat_minor": 5
}